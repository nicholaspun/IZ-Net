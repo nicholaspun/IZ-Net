{
  "nbformat": 4,
  "nbformat_minor": 0,
  "metadata": {
    "colab": {
      "name": "FaceRecognition.ipynb",
      "provenance": [],
      "collapsed_sections": []
    },
    "kernelspec": {
      "name": "python3",
      "display_name": "Python 3"
    },
    "accelerator": "GPU"
  },
  "cells": [
    {
      "cell_type": "code",
      "metadata": {
        "id": "y8b52j1PbQST"
      },
      "source": [
        "import os\n",
        "import sys\n",
        "from google.colab.patches import cv2_imshow\n",
        "from tensorflow.keras.applications import InceptionV3\n",
        "\n",
        "sys.path.append(os.path.join('.', 'drive', 'My Drive', 'IZ*Net', 'faceRecognition'))\n",
        "from models.nn1 import base_network\n",
        "from models.nn2 import inception_network\n",
        "from analysis import Analysis\n",
        "from train import train_with_triplet_loss, train_as_binary_classification_problem\n",
        "from consts import BASE_PATH, TRAIN_PATH, FACES_PATH\n",
        "from keras.optimizers import SGD"
      ],
      "execution_count": null,
      "outputs": []
    },
    {
      "cell_type": "code",
      "metadata": {
        "id": "vnRCl9X3xQmr"
      },
      "source": [
        "model_path = os.path.join(BASE_PATH, 'nn1.h5')\n",
        "model_tsne_path = os.path.join(BASE_PATH, 'nn1_tsne.png')\n",
        "model_pd_path = os.path.join(BASE_PATH, 'nn1_pd.png')\n",
        "model_medoid_path = os.path.join(BASE_PATH, 'nn1_medoid.png')\n",
        "\n",
        "MODEL = base_network() # Or, replace with inception_network, InceptionV3, or any other model\n",
        "ITERS = 5\n",
        "BATCH_SIZE = 32\n",
        "SAVE_PATH = model_path\n",
        "OPTIMIZER = SGD(momentum=0.9, clipnorm=1.0, clipvalue=0.5)\n",
        "\n",
        "train_with_triplet_loss(MODEL, ITERS, BATCH_SIZE, SAVE_PATH, optimizer=OPTIMIZER)\n",
        "# train_as_binary_classification_problem(model, 5, 32, model_path, optimizer=SGD(momentum=0.9, clipnorm=1.0, clipvalue=0.5))\n",
        "\n",
        "trained = Analysis(model)\n",
        "trained.visualize_tsne(save_path=model_tsne_path, n_components=2, n_iter=5000, perplexity=150)\n",
        "trained.visualize_pairwise_distance_boxplot(save_path=model_pd_path)\n",
        "trained.visualize_medoids_table(save_path=model_medoid_path)"
      ],
      "execution_count": null,
      "outputs": []
    }
  ]
}